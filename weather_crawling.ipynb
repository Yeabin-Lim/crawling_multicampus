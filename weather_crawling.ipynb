{
 "cells": [
  {
   "cell_type": "markdown",
   "metadata": {},
   "source": [
    "# 날씨 데이터 크롤링\n",
    "\n",
    "출처: https://www.data.go.kr/  \n",
    "ASOS 종관기상관측 데이터 활용"
   ]
  },
  {
   "cell_type": "markdown",
   "metadata": {},
   "source": [
    "# URL 설정"
   ]
  },
  {
   "cell_type": "code",
   "execution_count": 1,
   "metadata": {},
   "outputs": [],
   "source": [
    "from urllib.request import urlopen\n",
    "from urllib.parse import urlencode, unquote, quote_plus\n",
    "import urllib\n",
    "import requests\n",
    "import json\n",
    "import pandas as pd\n",
    "from bs4 import BeautifulSoup\n",
    "import datetime"
   ]
  },
  {
   "cell_type": "code",
   "execution_count": 2,
   "metadata": {},
   "outputs": [],
   "source": [
    "key= 'API key'\n",
    "url=\"http://data.kma.go.kr/apiData/getData\"\n"
   ]
  },
  {
   "cell_type": "markdown",
   "metadata": {},
   "source": [
    "# 일별데이터 출력"
   ]
  },
  {
   "cell_type": "markdown",
   "metadata": {},
   "source": [
    "### api 설명서에 있는 활용가이드에서 요청/응답 메세지 예제를 확인한다\n",
    "\n",
    "### urlparse, parse_qs를 통해 파라미터로 나눠준다"
   ]
  },
  {
   "cell_type": "code",
   "execution_count": 3,
   "metadata": {
    "scrolled": true
   },
   "outputs": [
    {
     "data": {
      "text/plain": [
       "{'serviceKey': '13nWfyvckU06jS8j02cgKEde9gF7+9BZ+OFcpgpuu/nNRbR64QYGlNEzN7b/9D4RI3uFKkJ97YT9mf5X3FMIUA==',\n",
       " 'numOfRows': '10',\n",
       " 'pageNo': '1',\n",
       " 'dataCd': 'ASOS',\n",
       " 'dateCd': 'DAY',\n",
       " 'startDt': '20100101',\n",
       " 'endDt': '20100102',\n",
       " 'stnIds': '108'}"
      ]
     },
     "execution_count": 3,
     "metadata": {},
     "output_type": "execute_result"
    }
   ],
   "source": [
    "from urllib.parse import urlparse, parse_qs\n",
    "url = urlparse(\"http://apis.data.go.kr/1360000/AsosDalyInfoService/getWthrDataList?serviceKey=13nWfyvckU06jS8j02cgKEde9gF7%2B9BZ%2BOFcpgpuu%2FnNRbR64QYGlNEzN7b%2F9D4RI3uFKkJ97YT9mf5X3FMIUA%3D%3D&numOfRows=10&pageNo=1&dataCd=ASOS&dateCd=DAY&startDt=20100101&endDt=20100102&stnIds=108\")\n",
    "par_dic = parse_qs(url.query)\n",
    "for key in par_dic:\n",
    "    par_dic[key] = par_dic[key][0]\n",
    "par_dic"
   ]
  },
  {
   "cell_type": "markdown",
   "metadata": {},
   "source": [
    "### 공공데이터에서 어제까지의 기상정보 데이터를 json형식으로 요청해 가져온다"
   ]
  },
  {
   "cell_type": "code",
   "execution_count": 4,
   "metadata": {},
   "outputs": [],
   "source": [
    "def get_daily_data(start_date):\n",
    "    start_date=start_date \n",
    "    end_date=str(datetime.date.today()-datetime.timedelta(1)).replace('-','')\n",
    "    url='http://apis.data.go.kr/1360000/AsosDalyInfoService/getWthrDataList'\n",
    "\n",
    "    \n",
    "    params={'serviceKey': unquote('API key'),\n",
    "            'numOfRows': '200',\n",
    "            'pageNo': '1',\n",
    "            'dataCd': 'ASOS',\n",
    "            'dateCd': 'DAY',\n",
    "            'startDt': start_date,\n",
    "            'endDt': end_date,\n",
    "            'stnIds': '108',\n",
    "            'dataType':'JSON'\n",
    "           }\n",
    "\n",
    "    resp = requests.get(url, params=params)\n",
    "    result= json.loads(resp.text)\n",
    "    return result"
   ]
  },
  {
   "cell_type": "code",
   "execution_count": 5,
   "metadata": {},
   "outputs": [],
   "source": [
    "def get_hourly_data(start_date, start_hour,end_date,end_hour):\n",
    "    start_date=start_date\n",
    "    start_hour=start_hour\n",
    "    end_date=end_date\n",
    "    end_hour=end_hour\n",
    "    url='http://apis.data.go.kr/1360000/AsosHourlyInfoService/getWthrDataList'\n",
    "\n",
    "    \n",
    "    params={'serviceKey': 'API key',\n",
    "     'numOfRows': '10',\n",
    "     'pageNo': '1',\n",
    "     'dataCd': 'ASOS',\n",
    "     'dateCd': 'HR',\n",
    "     'stnIds': '108',\n",
    "     'schListCnt': '10',\n",
    "     'endDt': end_date,\n",
    "     'endHh': end_hour,\n",
    "     'startHh': start_hour,\n",
    "     'startDt': start_date,\n",
    "     'dataType': 'JSON'\n",
    "           }\n",
    "\n",
    "    resp = requests.get(url, params=params)\n",
    "    #result= json.loads(resp.text)\n",
    "\n",
    "    return resp.text"
   ]
  },
  {
   "cell_type": "markdown",
   "metadata": {},
   "source": [
    "### 평균온도에 따른 옷차림을 보여주는 함수를 만든다"
   ]
  },
  {
   "cell_type": "code",
   "execution_count": 6,
   "metadata": {},
   "outputs": [],
   "source": [
    "def what_to_wear(high,low):\n",
    "    avg = (int(high[0])+int(low[0]))/2\n",
    "    if avg >= 28:\n",
    "            clothes = '나시티 / 반바지 / 민소매 / 원피스'\n",
    "    elif avg >= 23:\n",
    "        clothes = '반팔 / 얇은 셔츠 / 얇은 긴팔 / 반바지 / 면바지'\n",
    "    elif avg >= 20:\n",
    "        clothes = '긴팔티 / 가디건 / 후드티 / 면바지 / 슬랙스 / 청바지'\n",
    "    elif avg >= 17:\n",
    "        clothes = '니트 / 가디건 / 후드티 / 맨투맨 / 면바지 / 슬랙스 / 청바지'\n",
    "    elif avg >= 12:\n",
    "        clothes = '자켓 / 셔츠 / 가디건 / 간절기 외투'\n",
    "    elif avg >= 9:\n",
    "        clothes = '트렌치 코트 / 간절기 외투 / 여러겹 껴입기'\n",
    "    elif avg >= 6:\n",
    "        clothes = '코트 / 가죽자켓'\n",
    "    else:\n",
    "        clothes = '겨울 옷(야상, 패딩, 목도리 등등 다)'\n",
    "        \n",
    "    return clothes"
   ]
  },
  {
   "cell_type": "markdown",
   "metadata": {},
   "source": [
    "### 날씨 json 데이터에서 필요한 부분을 추출해 데이터 프레임 형태로 저장한다"
   ]
  },
  {
   "cell_type": "code",
   "execution_count": 10,
   "metadata": {},
   "outputs": [],
   "source": [
    "def data_to_DataFrame(result):\n",
    "    total_data=result['response']['body']['items']['item']\n",
    "    \n",
    "    result = {'날짜':[],\n",
    "              '최저기온':[],\n",
    "              '최고기온':[],\n",
    "              '비':[],\n",
    "              '강수량':[],\n",
    "              '옷차림':[],\n",
    "              '날씨':[]\n",
    "             }\n",
    "    for data in total_data:\n",
    "        result['날짜'].append(data['tm'])\n",
    "        result['최저기온'].append(data['minTa'])\n",
    "        result['최고기온'].append(data['maxTa'])\n",
    "        avg = (data['minTa']+data['maxTa'])/2\n",
    "        if data['sumRn']>0:\n",
    "            result['비'].append('O')\n",
    "            result['날씨'].append('비')\n",
    "        else:\n",
    "            if avg<10:\n",
    "                result['날씨'].append('추위')\n",
    "            elif avg<20:\n",
    "                result['날씨'].append('쌀쌀')\n",
    "            else:\n",
    "                result['날씨'].append('더위')\n",
    "            result['비'].append('X')\n",
    "        result['강수량'].append(data['sumRn'])\n",
    "        clothes = what_to_wear(result['최저기온'],result['최고기온'])\n",
    "        result['옷차림'].append(clothes)\n",
    "        \n",
    "    df=pd.DataFrame(result)\n",
    "    \n",
    "    return df"
   ]
  },
  {
   "cell_type": "markdown",
   "metadata": {},
   "source": [
    "### 공공데이터에선 당일 날씨를 수집할 수 없다 \n",
    "\n",
    "### 당일 날씨정보를 추가하기 위해 웨더아이 사이트의 xml정보를 수집하고 기존 데이터에 추가한다"
   ]
  },
  {
   "cell_type": "code",
   "execution_count": 11,
   "metadata": {},
   "outputs": [],
   "source": [
    "def append_today(data):\n",
    "    url = 'https://www.weatheri.co.kr/forecast/forecast01.php'\n",
    "    resp = requests.get(url)\n",
    "    soup = BeautifulSoup(resp.content, from_encoding='utf-8')\n",
    "    attrs={'width':'615',\n",
    "      'border':'0',\n",
    "      'cellpadding':'1',\n",
    "      'cellspacing':'1',\n",
    "       'bgcolor':'#BCBFC2'\n",
    "      }\n",
    "    inner_table = soup.find('table',attrs=attrs)\n",
    "    date = inner_table.select('td b')[0].text\n",
    "    date = '2020-{0}-{1}'.format(date.split()[0][:2],date.split()[1][:2])\n",
    "    high = inner_table.select('table tr td b font')[0].text\n",
    "    high = high.replace('˚C','')\n",
    "    low = inner_table.select('table tr td b font')[0].text\n",
    "    low = low.replace('˚C','')\n",
    "    sum_rain=inner_table.select('table tr td font')[-1].text\n",
    "    avg = (int(low)+int(high))/2\n",
    "    if sum_rain !='- mm':\n",
    "        rain='O'\n",
    "        weather = '비'\n",
    "        sum_rain = sum_rain.split()[0]\n",
    "        \n",
    "    else:\n",
    "        rain='X'\n",
    "        sum_rain = 0\n",
    "        if avg<10:\n",
    "            weather = '추위'\n",
    "        elif avg<20:\n",
    "            weather = '쌀쌀'\n",
    "        else:\n",
    "            weather = '더위'\n",
    "    clothes = what_to_wear(high,low)\n",
    "    \n",
    "        \n",
    "    new_data=pd.DataFrame({'날짜':[date],\n",
    "             '최저기온':[low],\n",
    "             '최고기온':[high],\n",
    "             '비':[rain],\n",
    "             '강수량':[sum_rain],\n",
    "             '옷차림':[clothes],\n",
    "             '날씨':[weather]})\n",
    "#     print(sum_rain)\n",
    "    data = data.append(new_data,ignore_index=True)\n",
    "#     print(data)\n",
    "    return data"
   ]
  },
  {
   "cell_type": "markdown",
   "metadata": {},
   "source": [
    "### 활용 예시))"
   ]
  },
  {
   "cell_type": "code",
   "execution_count": 12,
   "metadata": {
    "scrolled": true
   },
   "outputs": [
    {
     "name": "stdout",
     "output_type": "stream",
     "text": [
      "0\n",
      "            날짜  최저기온  최고기온  비   강수량                                옷차림  날씨\n",
      "0   2020-05-01  16.4  26.2  X   0.0  긴팔티 / 가디건 / 후드티 / 면바지 / 슬랙스 / 청바지  더위\n",
      "1   2020-05-02    18  23.9  X   0.0  긴팔티 / 가디건 / 후드티 / 면바지 / 슬랙스 / 청바지  더위\n",
      "2   2020-05-03    17  27.4  X   0.0  긴팔티 / 가디건 / 후드티 / 면바지 / 슬랙스 / 청바지  더위\n",
      "3   2020-05-04  14.8  25.3  X   0.0  긴팔티 / 가디건 / 후드티 / 면바지 / 슬랙스 / 청바지  더위\n",
      "4   2020-05-05  13.1  19.3  X   0.0  긴팔티 / 가디건 / 후드티 / 면바지 / 슬랙스 / 청바지  쌀쌀\n",
      "5   2020-05-06  11.1  27.6  X   0.0  긴팔티 / 가디건 / 후드티 / 면바지 / 슬랙스 / 청바지  쌀쌀\n",
      "6   2020-05-07  14.9  26.5  X   0.0  긴팔티 / 가디건 / 후드티 / 면바지 / 슬랙스 / 청바지  더위\n",
      "7   2020-05-08  14.3  27.3  O   2.3  긴팔티 / 가디건 / 후드티 / 면바지 / 슬랙스 / 청바지   비\n",
      "8   2020-05-09  12.7  16.8  O  24.4  긴팔티 / 가디건 / 후드티 / 면바지 / 슬랙스 / 청바지   비\n",
      "9   2020-05-10  12.8  16.6  O   1.3  긴팔티 / 가디건 / 후드티 / 면바지 / 슬랙스 / 청바지   비\n",
      "10  2020-05-11  12.4    22  O   3.4  긴팔티 / 가디건 / 후드티 / 면바지 / 슬랙스 / 청바지   비\n",
      "11  2020-05-12  10.5  18.9  O   0.7  긴팔티 / 가디건 / 후드티 / 면바지 / 슬랙스 / 청바지   비\n",
      "12  2020-05-13  10.2  21.8  X   0.0  긴팔티 / 가디건 / 후드티 / 면바지 / 슬랙스 / 청바지  쌀쌀\n",
      "13  2020-05-14  12.4  25.4  X   0.0  긴팔티 / 가디건 / 후드티 / 면바지 / 슬랙스 / 청바지  쌀쌀\n",
      "14  2020-05-15  14.1  20.2  O  12.0  긴팔티 / 가디건 / 후드티 / 면바지 / 슬랙스 / 청바지   비\n",
      "15  2020-05-16    15  20.3  O   2.5  긴팔티 / 가디건 / 후드티 / 면바지 / 슬랙스 / 청바지   비\n",
      "16  2020-05-17  14.6  24.9  X   0.0  긴팔티 / 가디건 / 후드티 / 면바지 / 슬랙스 / 청바지  쌀쌀\n",
      "17  2020-05-18  13.2  26.8  O  29.8  긴팔티 / 가디건 / 후드티 / 면바지 / 슬랙스 / 청바지   비\n",
      "18  2020-05-19  10.1  17.1  O  19.0  긴팔티 / 가디건 / 후드티 / 면바지 / 슬랙스 / 청바지   비\n",
      "19  2020-05-20   9.2  20.1  X   0.0  긴팔티 / 가디건 / 후드티 / 면바지 / 슬랙스 / 청바지  쌀쌀\n",
      "20  2020-05-21  10.9  22.9  X   0.0  긴팔티 / 가디건 / 후드티 / 면바지 / 슬랙스 / 청바지  쌀쌀\n",
      "21  2020-05-22  14.8  22.7  X   0.0  긴팔티 / 가디건 / 후드티 / 면바지 / 슬랙스 / 청바지  쌀쌀\n",
      "22  2020-05-23  16.6    25  X   0.0  긴팔티 / 가디건 / 후드티 / 면바지 / 슬랙스 / 청바지  더위\n",
      "23  2020-05-24  14.3  20.2  O  14.5  긴팔티 / 가디건 / 후드티 / 면바지 / 슬랙스 / 청바지   비\n",
      "24  2020-05-25  13.7  21.3  X   0.0  긴팔티 / 가디건 / 후드티 / 면바지 / 슬랙스 / 청바지  쌀쌀\n",
      "25  2020-05-26  12.7  22.9  O   1.5  긴팔티 / 가디건 / 후드티 / 면바지 / 슬랙스 / 청바지   비\n",
      "26  2020-05-27  11.8  23.9  X   0.0  긴팔티 / 가디건 / 후드티 / 면바지 / 슬랙스 / 청바지  쌀쌀\n",
      "27  2020-05-28  14.2  23.4  X   0.0  긴팔티 / 가디건 / 후드티 / 면바지 / 슬랙스 / 청바지  쌀쌀\n",
      "28  2020-05-29  14.6  27.6  X   0.0  긴팔티 / 가디건 / 후드티 / 면바지 / 슬랙스 / 청바지  더위\n",
      "29  2020-05-30  16.5    30  X   0.0  긴팔티 / 가디건 / 후드티 / 면바지 / 슬랙스 / 청바지  더위\n",
      "30  2020-05-31  17.6    28  O   1.0  긴팔티 / 가디건 / 후드티 / 면바지 / 슬랙스 / 청바지   비\n",
      "31  2020-06-01  16.6  24.5  O   0.4  긴팔티 / 가디건 / 후드티 / 면바지 / 슬랙스 / 청바지   비\n",
      "32  2020-06-02  14.8  21.8  O   2.0  긴팔티 / 가디건 / 후드티 / 면바지 / 슬랙스 / 청바지   비\n",
      "33  2020-06-03  17.6  28.4  X   0.0  긴팔티 / 가디건 / 후드티 / 면바지 / 슬랙스 / 청바지  더위\n",
      "34  2020-06-04  19.7  26.5  O   0.2  긴팔티 / 가디건 / 후드티 / 면바지 / 슬랙스 / 청바지   비\n",
      "35  2020-06-05  18.4  28.7  X   0.0  긴팔티 / 가디건 / 후드티 / 면바지 / 슬랙스 / 청바지  더위\n",
      "36  2020-06-06  19.2  30.9  X   0.0  긴팔티 / 가디건 / 후드티 / 면바지 / 슬랙스 / 청바지  더위\n",
      "37  2020-06-07  19.2  29.2  X   0.0  긴팔티 / 가디건 / 후드티 / 면바지 / 슬랙스 / 청바지  더위\n",
      "38  2020-06-08  19.8    32  X   0.0  긴팔티 / 가디건 / 후드티 / 면바지 / 슬랙스 / 청바지  더위\n",
      "39  2020-06-09  20.3  32.8  X   0.0  긴팔티 / 가디건 / 후드티 / 면바지 / 슬랙스 / 청바지  더위\n",
      "40  2020-06-10  22.5  32.1  O   6.2  긴팔티 / 가디건 / 후드티 / 면바지 / 슬랙스 / 청바지   비\n",
      "41  2020-06-11  21.7  31.6  X   0.0  긴팔티 / 가디건 / 후드티 / 면바지 / 슬랙스 / 청바지  더위\n",
      "42  2020-06-12  21.6  27.6  X   0.0  긴팔티 / 가디건 / 후드티 / 면바지 / 슬랙스 / 청바지  더위\n",
      "43  2020-06-13    32    32  X   0.0             겨울 옷(야상, 패딩, 목도리 등등 다)  더위\n"
     ]
    },
    {
     "name": "stderr",
     "output_type": "stream",
     "text": [
      "C:\\ProgramData\\Anaconda3\\lib\\site-packages\\bs4\\__init__.py:181: UserWarning: No parser was explicitly specified, so I'm using the best available HTML parser for this system (\"lxml\"). This usually isn't a problem, but if you run this code on another system, or in a different virtual environment, it may use a different parser and behave differently.\n",
      "\n",
      "The code that caused this warning is on line 193 of the file C:\\ProgramData\\Anaconda3\\lib\\runpy.py. To get rid of this warning, change code that looks like this:\n",
      "\n",
      " BeautifulSoup(YOUR_MARKUP})\n",
      "\n",
      "to this:\n",
      "\n",
      " BeautifulSoup(YOUR_MARKUP, \"lxml\")\n",
      "\n",
      "  markup_type=markup_type))\n"
     ]
    }
   ],
   "source": [
    "past_data=get_daily_data('20200501')\n",
    "until_today=data_to_DataFrame(past_data)\n",
    "final_data=append_today(until_today)"
   ]
  },
  {
   "cell_type": "code",
   "execution_count": 13,
   "metadata": {},
   "outputs": [
    {
     "name": "stdout",
     "output_type": "stream",
     "text": [
      "=====END Weather Crawling=====\n"
     ]
    }
   ],
   "source": [
    "final_data.to_csv('weather_crawling.csv',encoding='utf-8', index=False)\n",
    "print('=====END Weather Crawling=====')"
   ]
  }
 ],
 "metadata": {
  "kernelspec": {
   "display_name": "Python 3",
   "language": "python",
   "name": "python3"
  },
  "language_info": {
   "codemirror_mode": {
    "name": "ipython",
    "version": 3
   },
   "file_extension": ".py",
   "mimetype": "text/x-python",
   "name": "python",
   "nbconvert_exporter": "python",
   "pygments_lexer": "ipython3",
   "version": "3.7.4"
  }
 },
 "nbformat": 4,
 "nbformat_minor": 4
}
