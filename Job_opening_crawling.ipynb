{
 "cells": [
  {
   "cell_type": "code",
   "execution_count": 1,
   "metadata": {},
   "outputs": [],
   "source": [
    "import requests\n",
    "from bs4 import BeautifulSoup\n",
    "import pandas as pd\n",
    "from datetime import datetime, timedelta, date"
   ]
  },
  {
   "cell_type": "code",
   "execution_count": 2,
   "metadata": {
    "scrolled": false
   },
   "outputs": [],
   "source": [
    "def job_openings():\n",
    "    month = ['202005']\n",
    "    job = []\n",
    "    k = {}\n",
    "    d = []\n",
    "    c = []\n",
    "\n",
    "    for m in month:\n",
    "\n",
    "        url = 'http://www.jobkorea.co.kr/starter/calendar/{}'.format(m)\n",
    "        params={\n",
    "            'Sel_Date':m\n",
    "        }\n",
    "        resp = requests.get(url)\n",
    "        soup = BeautifulSoup(resp.text,'lxml')\n",
    "        body = soup.find('tbody')\n",
    "        trs = body.find_all('tr')\n",
    "        for tr in trs:\n",
    "            divs = tr.find_all('div',class_='calCont')\n",
    "\n",
    "            for div in divs:\n",
    "                span = div.find('span',class_=\"link start \")\n",
    "                if span == None:\n",
    "                    continue\n",
    "                day = div.find('strong',class_='day').text\n",
    "                company = span.find('a').text[2:].strip()\n",
    "                c.append(company)\n",
    "                if len(day)==1:\n",
    "                    day = '0'+day\n",
    "                d.append(m[0:4]+'-'+m[4:]+'-'+str(day))\n",
    "        df1 = pd.DataFrame({'날짜':d, '회사':c})\n",
    "        \n",
    "    return df1"
   ]
  },
  {
   "cell_type": "code",
   "execution_count": 3,
   "metadata": {},
   "outputs": [],
   "source": [
    "def data_join(df1):\n",
    "    date_range = (pd.date_range(start='20200501', end='20200530')).strftime(\"%Y-%m-%d\").tolist()\n",
    "    df2=pd.DataFrame({'날짜':date_range})\n",
    "    df_OUTER_JOIN = pd.merge(df1, df2, left_on='날짜', right_on='날짜', how='outer', sort=True)\n",
    "    df_finally = df_OUTER_JOIN.fillna('None')\n",
    "    return df_finally"
   ]
  },
  {
   "cell_type": "code",
   "execution_count": 4,
   "metadata": {},
   "outputs": [],
   "source": [
    "def last_day_of_month(ds):\n",
    "    cur_ds = datetime.strptime(ds, '%Y%m')\n",
    "    next_month = datetime(year=cur_ds.year, month=cur_ds.month+1, day=1)\n",
    "    last_day_month = next_month - timedelta(days=1)\n",
    "    return datetime.strftime(last_day_month, '%Y%m%d')"
   ]
  },
  {
   "cell_type": "code",
   "execution_count": 5,
   "metadata": {},
   "outputs": [],
   "source": [
    "def append_month_info(month,month_end_day):\n",
    "    job,d,c = [],[],[]\n",
    "    k = {}\n",
    "    url = 'http://www.jobkorea.co.kr/starter/calendar/{}'.format(month)\n",
    "    params={\n",
    "        'Sel_Date':month\n",
    "    }\n",
    "    resp = requests.get(url)\n",
    "    soup = BeautifulSoup(resp.text)\n",
    "    body = soup.find('tbody')\n",
    "    trs = body.find_all('tr')\n",
    "    for tr in trs:\n",
    "        divs = tr.find_all('div',class_='calCont')\n",
    "\n",
    "        for div in divs:   \n",
    "            span = div.find('span',class_=\"link start \")\n",
    "            if span == None:\n",
    "                continue\n",
    "            day = div.find('strong',class_='day').text\n",
    "            company = span.find('a').text[2:].strip()\n",
    "            c.append(company)\n",
    "            if len(day)==1:\n",
    "                day = '0'+day\n",
    "            d.append(month[0:4]+'-'+month[4:]+'-'+str(day))\n",
    "    df_curr_1 = pd.DataFrame({'회사':c,'날짜':d})\n",
    "    date_range = (pd.date_range(start=month+'01', end=month_end_day)).strftime(\"%Y-%m-%d\").tolist()\n",
    "    df_curr_2=pd.DataFrame({'날짜':date_range})\n",
    "    df_OUTER_JOIN = pd.merge(df_curr_1, df_curr_2, left_on='날짜', right_on='날짜', how='outer', sort=True)\n",
    "    df_curr = df_OUTER_JOIN.fillna('None')\n",
    "    return df_curr"
   ]
  },
  {
   "cell_type": "code",
   "execution_count": 6,
   "metadata": {
    "scrolled": true
   },
   "outputs": [
    {
     "name": "stdout",
     "output_type": "stream",
     "text": [
      "=====END Job Crawling=====\n"
     ]
    },
    {
     "name": "stderr",
     "output_type": "stream",
     "text": [
      "C:\\ProgramData\\Anaconda3\\lib\\site-packages\\bs4\\__init__.py:181: UserWarning: No parser was explicitly specified, so I'm using the best available HTML parser for this system (\"lxml\"). This usually isn't a problem, but if you run this code on another system, or in a different virtual environment, it may use a different parser and behave differently.\n",
      "\n",
      "The code that caused this warning is on line 193 of the file C:\\ProgramData\\Anaconda3\\lib\\runpy.py. To get rid of this warning, change code that looks like this:\n",
      "\n",
      " BeautifulSoup(YOUR_MARKUP})\n",
      "\n",
      "to this:\n",
      "\n",
      " BeautifulSoup(YOUR_MARKUP, \"lxml\")\n",
      "\n",
      "  markup_type=markup_type))\n",
      "C:\\ProgramData\\Anaconda3\\lib\\site-packages\\pandas\\core\\frame.py:7123: FutureWarning: Sorting because non-concatenation axis is not aligned. A future version\n",
      "of pandas will change to not sort by default.\n",
      "\n",
      "To accept the future behavior, pass 'sort=False'.\n",
      "\n",
      "To retain the current behavior and silence the warning, pass 'sort=True'.\n",
      "\n",
      "  sort=sort,\n"
     ]
    }
   ],
   "source": [
    "df1 = job_openings()\n",
    "df = data_join(df1)\n",
    "last_day_of_month = last_day_of_month(date.today().strftime(\"%Y%m%d\")[:-2])\n",
    "df_curr = append_month_info(date.today().strftime(\"%Y%m%d\")[:-2],last_day_of_month)\n",
    "df = df.append(df_curr,ignore_index=True)\n",
    "df.to_csv('job_crawling.csv',encoding='utf-8', index=False)\n",
    "print('=====END Job Crawling=====')"
   ]
  },
  {
   "cell_type": "code",
   "execution_count": null,
   "metadata": {},
   "outputs": [],
   "source": []
  }
 ],
 "metadata": {
  "kernelspec": {
   "display_name": "Python 3",
   "language": "python",
   "name": "python3"
  },
  "language_info": {
   "codemirror_mode": {
    "name": "ipython",
    "version": 3
   },
   "file_extension": ".py",
   "mimetype": "text/x-python",
   "name": "python",
   "nbconvert_exporter": "python",
   "pygments_lexer": "ipython3",
   "version": "3.7.4"
  }
 },
 "nbformat": 4,
 "nbformat_minor": 4
}
