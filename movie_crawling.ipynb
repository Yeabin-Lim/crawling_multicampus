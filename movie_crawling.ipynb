{
 "cells": [
  {
   "cell_type": "code",
   "execution_count": 2,
   "metadata": {},
   "outputs": [],
   "source": [
    "from urllib.request import urlopen\n",
    "from urllib.parse import urlencode, unquote, quote_plus\n",
    "import urllib\n",
    "import requests\n",
    "import json\n",
    "import pandas as pd\n",
    "from bs4 import BeautifulSoup\n",
    "import re\n",
    "import datetime\n",
    "from tqdm import tqdm_notebook"
   ]
  },
  {
   "cell_type": "markdown",
   "metadata": {},
   "source": [
    "### 네이버 영화-> 현재 상영영화에서 평점순 top 10 영화의 정보가 담긴 url을 수집한다"
   ]
  },
  {
   "cell_type": "code",
   "execution_count": 3,
   "metadata": {},
   "outputs": [],
   "source": [
    "def movie_crawler(date):\n",
    "    url = 'https://movie.naver.com/movie/sdb/rank/rmovie.nhn'\n",
    "    params = {'sel':'cur',\n",
    "             'tg':0,\n",
    "             'date':date}\n",
    "\n",
    "    resp = requests.get(url,params=params)\n",
    "    soup = BeautifulSoup(resp.text)\n",
    "    table=soup.find('table',class_='list_ranking')\n",
    "    top10_movie=table.find_all('tr')[2:12]\n",
    "    day_top10_link=[]\n",
    "    base_url='https://movie.naver.com'\n",
    "    for movie in top10_movie:\n",
    "\n",
    "        href=movie.find('a').get('href')\n",
    "        movie_url=base_url+href\n",
    "        day_top10_link.append(movie_url)\n",
    "    return day_top10_link"
   ]
  },
  {
   "cell_type": "markdown",
   "metadata": {},
   "source": [
    "### URL의 xml을 뷰티풀숩으로 파싱해 영화관련 정보를 데이터프레임 형식으로 저장한다 "
   ]
  },
  {
   "cell_type": "code",
   "execution_count": 4,
   "metadata": {},
   "outputs": [],
   "source": [
    "def get_movie_info(date,url_list):\n",
    "    movie_info = {\n",
    "        '제목':[],\n",
    "        '날짜':[],\n",
    "        '평점':[],\n",
    "        '장르':[],\n",
    "        '국가':[],\n",
    "        '상영시간':[],\n",
    "        '개봉일':[],\n",
    "        '줄거리':[]            \n",
    "        }    \n",
    "    for url in url_list:\n",
    "        resp = requests.get(url)\n",
    "        soup = BeautifulSoup(resp.text)\n",
    "        # 제목 추출\n",
    "        title = soup.find('h3',class_='h_movie')\n",
    "        title = title.find('a').text\n",
    "        # 평점 추출\n",
    "        score=soup.find('div',class_='main_score')\n",
    "        score=score.find('div',class_='star_score').text.split()[2][:5]\n",
    "        \n",
    "        infos=soup.find('dl',class_='info_spec')\n",
    "        info_list = infos.select(\"dd p span\")\n",
    "        # 국가 추출\n",
    "        country=info_list[1].text\n",
    "        country = re.sub('\\s','',country)\n",
    "        # 장르 추출\n",
    "        genre = info_list[0].text\n",
    "        genre = re.sub('\\s','',genre)\n",
    "        # 상영시간 추출\n",
    "        running_time = info_list[2].text\n",
    "        # 개봉일 추출\n",
    "        opening_days = info_list[3].text\n",
    "        opening_days = re.sub('\\s','',opening_days)\n",
    "        # 줄거리 추출\n",
    "        story=soup.find('div',class_='obj_section')\n",
    "        story=story.find('p').text\n",
    "        story = re.sub('\\r\\xa0', \"\", story)\n",
    "        movie_info['제목'].append(title)\n",
    "        movie_info['날짜'].append(date)\n",
    "        movie_info['평점'].append(score)\n",
    "        movie_info['장르'].append(genre)\n",
    "        movie_info['국가'].append(country)\n",
    "        movie_info['상영시간'].append(running_time)\n",
    "        movie_info['개봉일'].append(opening_days)\n",
    "        movie_info['줄거리'].append(story)\n",
    "    result=pd.DataFrame(movie_info)\n",
    "    return result"
   ]
  },
  {
   "cell_type": "markdown",
   "metadata": {},
   "source": [
    "### 위의 두 함수를 활용해 설정한 기간 내의 영화정보를 데이터 프레임으로 저장한다"
   ]
  },
  {
   "cell_type": "code",
   "execution_count": 5,
   "metadata": {},
   "outputs": [],
   "source": [
    "def append_movie_info(start_date, end_date):\n",
    "    total_info = pd.DataFrame({\n",
    "        '제목':[],\n",
    "        '날짜':[],\n",
    "        '평점':[],\n",
    "        '장르':[],\n",
    "        '국가':[],\n",
    "        '상영시간':[],\n",
    "        '개봉일':[],\n",
    "        '줄거리':[]            \n",
    "        })\n",
    "\n",
    "    date_list = pd.date_range(start=start_date, end = end_date)\n",
    "    \n",
    "    for date in tqdm_notebook(date_list):\n",
    "        url_list = movie_crawler(date)\n",
    "        daily_movie_info=get_movie_info(date,url_list)\n",
    "        total_info=pd.concat([total_info,daily_movie_info],ignore_index=True)\n",
    "    return total_info"
   ]
  },
  {
   "cell_type": "markdown",
   "metadata": {},
   "source": [
    "### 오늘의 영화정보를 크롤링해 과거 데이터에 추가한다"
   ]
  },
  {
   "cell_type": "code",
   "execution_count": 6,
   "metadata": {
    "scrolled": false
   },
   "outputs": [
    {
     "data": {
      "application/vnd.jupyter.widget-view+json": {
       "model_id": "8ac903f3f6034239bf05039df03a9d8c",
       "version_major": 2,
       "version_minor": 0
      },
      "text/plain": [
       "HBox(children=(IntProgress(value=0, max=55), HTML(value='')))"
      ]
     },
     "metadata": {},
     "output_type": "display_data"
    },
    {
     "name": "stderr",
     "output_type": "stream",
     "text": [
      "C:\\ProgramData\\Anaconda3\\lib\\site-packages\\bs4\\__init__.py:181: UserWarning: No parser was explicitly specified, so I'm using the best available HTML parser for this system (\"lxml\"). This usually isn't a problem, but if you run this code on another system, or in a different virtual environment, it may use a different parser and behave differently.\n",
      "\n",
      "The code that caused this warning is on line 193 of the file C:\\ProgramData\\Anaconda3\\lib\\runpy.py. To get rid of this warning, change code that looks like this:\n",
      "\n",
      " BeautifulSoup(YOUR_MARKUP})\n",
      "\n",
      "to this:\n",
      "\n",
      " BeautifulSoup(YOUR_MARKUP, \"lxml\")\n",
      "\n",
      "  markup_type=markup_type))\n"
     ]
    },
    {
     "name": "stdout",
     "output_type": "stream",
     "text": [
      "\n",
      "=====END Movie Crawling=====\n"
     ]
    }
   ],
   "source": [
    "data = append_movie_info('20200501',datetime.date.today())\n",
    "data.to_csv('movie_crawling.csv',encoding='utf-8', index=False)\n",
    "print('=====END Movie Crawling=====')"
   ]
  },
  {
   "cell_type": "code",
   "execution_count": 13,
   "metadata": {},
   "outputs": [],
   "source": [
    "data['날짜'] = data['날짜'].astype(str)"
   ]
  },
  {
   "cell_type": "code",
   "execution_count": 14,
   "metadata": {},
   "outputs": [
    {
     "data": {
      "text/html": [
       "<div>\n",
       "<style scoped>\n",
       "    .dataframe tbody tr th:only-of-type {\n",
       "        vertical-align: middle;\n",
       "    }\n",
       "\n",
       "    .dataframe tbody tr th {\n",
       "        vertical-align: top;\n",
       "    }\n",
       "\n",
       "    .dataframe thead th {\n",
       "        text-align: right;\n",
       "    }\n",
       "</style>\n",
       "<table border=\"1\" class=\"dataframe\">\n",
       "  <thead>\n",
       "    <tr style=\"text-align: right;\">\n",
       "      <th></th>\n",
       "      <th>제목</th>\n",
       "      <th>날짜</th>\n",
       "      <th>평점</th>\n",
       "      <th>장르</th>\n",
       "      <th>국가</th>\n",
       "      <th>상영시간</th>\n",
       "      <th>개봉일</th>\n",
       "      <th>줄거리</th>\n",
       "    </tr>\n",
       "  </thead>\n",
       "  <tbody>\n",
       "    <tr>\n",
       "      <td>0</td>\n",
       "      <td>위대한 쇼맨</td>\n",
       "      <td>2020-05-01</td>\n",
       "      <td>9.30점</td>\n",
       "      <td>드라마,뮤지컬</td>\n",
       "      <td>미국</td>\n",
       "      <td>104분</td>\n",
       "      <td>2020.05.21재개봉,2017.12.20개봉</td>\n",
       "      <td>쇼 비즈니스의 창시자이자, 꿈의 무대로 전세계를 매료시킨 남자‘바넘’의 이야기에서 ...</td>\n",
       "    </tr>\n",
       "    <tr>\n",
       "      <td>1</td>\n",
       "      <td>에이리언 2</td>\n",
       "      <td>2020-05-01</td>\n",
       "      <td>없음</td>\n",
       "      <td>SF,공포,스릴러,액션</td>\n",
       "      <td>미국</td>\n",
       "      <td>137분</td>\n",
       "      <td>1986.12.24개봉</td>\n",
       "      <td>에이리언과의 싸움에서 간신히 살아남은 리플리는 잠든 채로 57년을 떠돌다 구조선에 ...</td>\n",
       "    </tr>\n",
       "    <tr>\n",
       "      <td>2</td>\n",
       "      <td>패왕별희 디 오리지널</td>\n",
       "      <td>2020-05-01</td>\n",
       "      <td>9.64점</td>\n",
       "      <td>드라마</td>\n",
       "      <td>중국,홍콩</td>\n",
       "      <td>171분</td>\n",
       "      <td>2020.05.01재개봉,2017.03.30재개봉,1993.12.24개봉</td>\n",
       "      <td>어렸을 때부터 함께 경극을 해온 ‘두지’(장국영)와 ‘시투’(장풍의).  세상에 둘...</td>\n",
       "    </tr>\n",
       "    <tr>\n",
       "      <td>3</td>\n",
       "      <td>인생</td>\n",
       "      <td>2020-05-01</td>\n",
       "      <td>5.00점</td>\n",
       "      <td>드라마</td>\n",
       "      <td>중국,대만</td>\n",
       "      <td>125분</td>\n",
       "      <td>1995.05.27개봉</td>\n",
       "      <td>1940년대 중국, 부유한 지주집 아들인 부귀(갈우 분)는 아름다운 아내(공리 분)...</td>\n",
       "    </tr>\n",
       "    <tr>\n",
       "      <td>4</td>\n",
       "      <td>우리들</td>\n",
       "      <td>2020-05-01</td>\n",
       "      <td>9.21점</td>\n",
       "      <td>드라마</td>\n",
       "      <td>한국</td>\n",
       "      <td>94분</td>\n",
       "      <td>2016.06.16개봉</td>\n",
       "      <td>그 여름, 나에게도 친구가 생겼다… “내 마음이 들리니”  언제나 혼자인 외톨이 선...</td>\n",
       "    </tr>\n",
       "    <tr>\n",
       "      <td>...</td>\n",
       "      <td>...</td>\n",
       "      <td>...</td>\n",
       "      <td>...</td>\n",
       "      <td>...</td>\n",
       "      <td>...</td>\n",
       "      <td>...</td>\n",
       "      <td>...</td>\n",
       "      <td>...</td>\n",
       "    </tr>\n",
       "    <tr>\n",
       "      <td>545</td>\n",
       "      <td>톰보이</td>\n",
       "      <td>2020-06-24</td>\n",
       "      <td>8.85점</td>\n",
       "      <td>드라마</td>\n",
       "      <td>프랑스</td>\n",
       "      <td>82분</td>\n",
       "      <td>2020.05.14개봉</td>\n",
       "      <td>새로 이사 온 아이, ‘미카엘’.파란색을 좋아하고, 끝내주는 축구 실력과 유난히 잘...</td>\n",
       "    </tr>\n",
       "    <tr>\n",
       "      <td>546</td>\n",
       "      <td>러빙 빈센트</td>\n",
       "      <td>2020-06-24</td>\n",
       "      <td>9.18점</td>\n",
       "      <td>애니메이션,미스터리</td>\n",
       "      <td>영국,폴란드</td>\n",
       "      <td>107분</td>\n",
       "      <td>2018.12.13재개봉,2017.11.09개봉</td>\n",
       "      <td>살아생전 단 한 점의 그림만을 팔았던 화가 ‘빈센트’의 죽음 후 1년. 아버지의 부...</td>\n",
       "    </tr>\n",
       "    <tr>\n",
       "      <td>547</td>\n",
       "      <td>어느 가족</td>\n",
       "      <td>2020-06-24</td>\n",
       "      <td>9.25점</td>\n",
       "      <td>드라마</td>\n",
       "      <td>일본</td>\n",
       "      <td>121분</td>\n",
       "      <td>2018.07.26개봉</td>\n",
       "      <td>할머니의 연금과 물건을 훔쳐 생활하며 가난하지만 웃음이 끊이지 않는 어느 가족.우연...</td>\n",
       "    </tr>\n",
       "    <tr>\n",
       "      <td>548</td>\n",
       "      <td>시간을 달리는 소녀</td>\n",
       "      <td>2020-06-24</td>\n",
       "      <td>9.43점</td>\n",
       "      <td>애니메이션,가족,드라마,판타지</td>\n",
       "      <td>일본</td>\n",
       "      <td>97분</td>\n",
       "      <td>2016.01.14재개봉,2014.04.25재개봉,2007.06.14개봉</td>\n",
       "      <td>저 마코토에게는 남들에게 말 못할 비밀이 하나 있어요. 타임리프라고 하는 능력이죠....</td>\n",
       "    </tr>\n",
       "    <tr>\n",
       "      <td>549</td>\n",
       "      <td>스타 이즈 본</td>\n",
       "      <td>2020-06-24</td>\n",
       "      <td>9.15점</td>\n",
       "      <td>드라마,멜로/로맨스</td>\n",
       "      <td>미국</td>\n",
       "      <td>135분</td>\n",
       "      <td>2018.10.09개봉</td>\n",
       "      <td>노래에 놀라운 재능을 가졌지만 외모에는 자신이 없는 무명가수 앨리(레이디 가가)는공...</td>\n",
       "    </tr>\n",
       "  </tbody>\n",
       "</table>\n",
       "<p>550 rows × 8 columns</p>\n",
       "</div>"
      ],
      "text/plain": [
       "              제목          날짜     평점                장르      국가   상영시간  \\\n",
       "0         위대한 쇼맨  2020-05-01  9.30점           드라마,뮤지컬      미국  104분    \n",
       "1         에이리언 2  2020-05-01     없음      SF,공포,스릴러,액션      미국  137분    \n",
       "2    패왕별희 디 오리지널  2020-05-01  9.64점               드라마   중국,홍콩  171분    \n",
       "3             인생  2020-05-01  5.00점               드라마   중국,대만  125분    \n",
       "4            우리들  2020-05-01  9.21점               드라마      한국   94분    \n",
       "..           ...         ...    ...               ...     ...    ...   \n",
       "545          톰보이  2020-06-24  8.85점               드라마     프랑스   82분    \n",
       "546       러빙 빈센트  2020-06-24  9.18점        애니메이션,미스터리  영국,폴란드  107분    \n",
       "547        어느 가족  2020-06-24  9.25점               드라마      일본  121분    \n",
       "548   시간을 달리는 소녀  2020-06-24  9.43점  애니메이션,가족,드라마,판타지      일본   97분    \n",
       "549      스타 이즈 본  2020-06-24  9.15점        드라마,멜로/로맨스      미국  135분    \n",
       "\n",
       "                                          개봉일  \\\n",
       "0                  2020.05.21재개봉,2017.12.20개봉   \n",
       "1                                1986.12.24개봉   \n",
       "2    2020.05.01재개봉,2017.03.30재개봉,1993.12.24개봉   \n",
       "3                                1995.05.27개봉   \n",
       "4                                2016.06.16개봉   \n",
       "..                                        ...   \n",
       "545                              2020.05.14개봉   \n",
       "546                2018.12.13재개봉,2017.11.09개봉   \n",
       "547                              2018.07.26개봉   \n",
       "548  2016.01.14재개봉,2014.04.25재개봉,2007.06.14개봉   \n",
       "549                              2018.10.09개봉   \n",
       "\n",
       "                                                   줄거리  \n",
       "0    쇼 비즈니스의 창시자이자, 꿈의 무대로 전세계를 매료시킨 남자‘바넘’의 이야기에서 ...  \n",
       "1    에이리언과의 싸움에서 간신히 살아남은 리플리는 잠든 채로 57년을 떠돌다 구조선에 ...  \n",
       "2    어렸을 때부터 함께 경극을 해온 ‘두지’(장국영)와 ‘시투’(장풍의).  세상에 둘...  \n",
       "3    1940년대 중국, 부유한 지주집 아들인 부귀(갈우 분)는 아름다운 아내(공리 분)...  \n",
       "4    그 여름, 나에게도 친구가 생겼다… “내 마음이 들리니”  언제나 혼자인 외톨이 선...  \n",
       "..                                                 ...  \n",
       "545  새로 이사 온 아이, ‘미카엘’.파란색을 좋아하고, 끝내주는 축구 실력과 유난히 잘...  \n",
       "546  살아생전 단 한 점의 그림만을 팔았던 화가 ‘빈센트’의 죽음 후 1년. 아버지의 부...  \n",
       "547  할머니의 연금과 물건을 훔쳐 생활하며 가난하지만 웃음이 끊이지 않는 어느 가족.우연...  \n",
       "548  저 마코토에게는 남들에게 말 못할 비밀이 하나 있어요. 타임리프라고 하는 능력이죠....  \n",
       "549  노래에 놀라운 재능을 가졌지만 외모에는 자신이 없는 무명가수 앨리(레이디 가가)는공...  \n",
       "\n",
       "[550 rows x 8 columns]"
      ]
     },
     "execution_count": 14,
     "metadata": {},
     "output_type": "execute_result"
    }
   ],
   "source": [
    "data"
   ]
  },
  {
   "cell_type": "code",
   "execution_count": 6,
   "metadata": {},
   "outputs": [],
   "source": [
    "# def append_today():\n",
    "#     prev_data = pd.read_csv('movie_crawling.csv',index_col=0)\n",
    "#     now=datetime.datetime.today()\n",
    "#     date = \"{}-{}-{}\".format(now.year, now.month, now.day)\n",
    "#     url_list = movie_crawler(date)\n",
    "#     daily_movie_info=get_movie_info(date,url_list)\n",
    "#     new_data=pd.concat([prev_data,daily_movie_info],ignore_index=True)\n",
    "#     return new_data"
   ]
  },
  {
   "cell_type": "code",
   "execution_count": null,
   "metadata": {},
   "outputs": [],
   "source": [
    "# data.to_csv('movie_crawling.csv')"
   ]
  },
  {
   "cell_type": "code",
   "execution_count": null,
   "metadata": {},
   "outputs": [],
   "source": [
    "# data = append_today()"
   ]
  }
 ],
 "metadata": {
  "kernelspec": {
   "display_name": "Python 3",
   "language": "python",
   "name": "python3"
  },
  "language_info": {
   "codemirror_mode": {
    "name": "ipython",
    "version": 3
   },
   "file_extension": ".py",
   "mimetype": "text/x-python",
   "name": "python",
   "nbconvert_exporter": "python",
   "pygments_lexer": "ipython3",
   "version": "3.7.4"
  }
 },
 "nbformat": 4,
 "nbformat_minor": 2
}
