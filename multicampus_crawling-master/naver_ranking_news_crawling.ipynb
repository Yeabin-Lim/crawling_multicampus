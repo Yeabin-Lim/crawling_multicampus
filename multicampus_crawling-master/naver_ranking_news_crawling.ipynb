{
 "cells": [
  {
   "cell_type": "code",
   "execution_count": 1,
   "metadata": {},
   "outputs": [],
   "source": [
    "import requests\n",
    "from bs4 import BeautifulSoup\n",
    "import pandas as pd\n",
    "from urllib.parse import urljoin, urlparse, parse_qs\n",
    "import datetime\n",
    "from tqdm import tqdm_notebook"
   ]
  },
  {
   "cell_type": "markdown",
   "metadata": {},
   "source": [
    "#### 1. 뉴스 속보 페이지에서 정치/경제/사회 기사 링크 수집 \n",
    "링크 : https://news.naver.com/main/ranking/popularDay.nhn"
   ]
  },
  {
   "cell_type": "code",
   "execution_count": 2,
   "metadata": {
    "scrolled": true
   },
   "outputs": [],
   "source": [
    "# 수집해야할 날짜의 범위\n",
    "def news_link_crawler(date_range, base_url, params):\n",
    "\n",
    "    ranking_news_list = []\n",
    "    \n",
    "    for date in date_range:\n",
    "        params['date'] = date\n",
    "\n",
    "        resp = requests.get(base_url,params=params)\n",
    "        soup = BeautifulSoup(resp.text)\n",
    "        ranking_wrap = soup.select('div.ranking_section li dt a')\n",
    "\n",
    "        date_news_dict = {}\n",
    "        news_list = []\n",
    "\n",
    "        # 정치, 경제, 사회\n",
    "        for ranking in ranking_wrap[:-15]:\n",
    "            news_list.append(urljoin(base_url,ranking.get('href')))\n",
    "\n",
    "        date_news_dict[date] = news_list\n",
    "\n",
    "        ranking_news_list.append(date_news_dict)\n",
    "    \n",
    "    return ranking_news_list\n"
   ]
  },
  {
   "cell_type": "markdown",
   "metadata": {},
   "source": [
    "#### 뉴스 기사에서 기사제목/ 섹션 / 요약봇의 기사요약 내용 / 이미지 추출"
   ]
  },
  {
   "cell_type": "code",
   "execution_count": 3,
   "metadata": {
    "scrolled": true
   },
   "outputs": [],
   "source": [
    "def news_body_crawler(ranking_news_list):\n",
    "    finally_news_list = []\n",
    "\n",
    "    for ranking_list in tqdm_notebook(ranking_news_list):\n",
    "        for yyyymmdd, ranking in ranking_list.items():\n",
    "            for ranking_news in ranking:\n",
    "\n",
    "                news_dict = {}\n",
    "                \n",
    "                resp_news = requests.get(ranking_news)\n",
    "                soup_news = BeautifulSoup(resp_news.text)\n",
    "\n",
    "                # 기사 제목\n",
    "                header_wrap = soup_news.select('div.article_info h3')\n",
    "                title = header_wrap[0].text\n",
    "\n",
    "                # 섹션\n",
    "                section = soup_news.find('em', class_='guide_categorization_item')\n",
    "\n",
    "                # 기사 ID\n",
    "                parsed_url = urlparse(ranking_news)\n",
    "                qs = parse_qs(parsed_url.query)\n",
    "                oid = qs['oid'][0]\n",
    "                aid = qs['aid'][0]\n",
    "                # print(oid, aid)\n",
    "\n",
    "                # 내용\n",
    "                summary_url = 'https://tts.news.naver.com/article/{}/{}/summary'.format(oid, aid)\n",
    "                resp_summary = requests.get(summary_url)\n",
    "                soup_summary = BeautifulSoup(resp_summary.text)\n",
    "                summary = soup_summary.text.split(':')[-1].replace('}','').replace(\"\\\\\",\"\")\n",
    "                if summary:\n",
    "                    pass\n",
    "                else:\n",
    "                    summary = '요약 제공 안함'\n",
    "                    \n",
    "                news_dict = {\n",
    "                    '날짜' : yyyymmdd[:4]+'-'+yyyymmdd[4:6]+'-'+yyyymmdd[6:],\n",
    "                    'title' : title.replace(',',''),\n",
    "                    'category' : section.text,\n",
    "                    'summary' : summary.replace('\"','').replace(',','')\n",
    "                }\n",
    "                finally_news_list.append(news_dict)\n",
    "    return finally_news_list"
   ]
  },
  {
   "cell_type": "code",
   "execution_count": 4,
   "metadata": {},
   "outputs": [],
   "source": [
    "# def save_df_to_csv(finally_news_list):\n",
    "#     df = pd.DataFrame(finally_news_list)\n",
    "#     df.to_csv('naver_news_crawling.csv', encoding='utf-8', index=False)"
   ]
  },
  {
   "cell_type": "code",
   "execution_count": 5,
   "metadata": {
    "scrolled": true
   },
   "outputs": [
    {
     "name": "stderr",
     "output_type": "stream",
     "text": [
      "C:\\ProgramData\\Anaconda3\\lib\\site-packages\\bs4\\__init__.py:181: UserWarning: No parser was explicitly specified, so I'm using the best available HTML parser for this system (\"lxml\"). This usually isn't a problem, but if you run this code on another system, or in a different virtual environment, it may use a different parser and behave differently.\n",
      "\n",
      "The code that caused this warning is on line 193 of the file C:\\ProgramData\\Anaconda3\\lib\\runpy.py. To get rid of this warning, change code that looks like this:\n",
      "\n",
      " BeautifulSoup(YOUR_MARKUP})\n",
      "\n",
      "to this:\n",
      "\n",
      " BeautifulSoup(YOUR_MARKUP, \"lxml\")\n",
      "\n",
      "  markup_type=markup_type))\n"
     ]
    },
    {
     "data": {
      "application/vnd.jupyter.widget-view+json": {
       "model_id": "af203cf1015c45b0aed021f48529c2cf",
       "version_major": 2,
       "version_minor": 0
      },
      "text/plain": [
       "HBox(children=(IntProgress(value=0, max=55), HTML(value='')))"
      ]
     },
     "metadata": {},
     "output_type": "display_data"
    },
    {
     "name": "stdout",
     "output_type": "stream",
     "text": [
      "\n",
      "=====END News Crawling=====\n"
     ]
    }
   ],
   "source": [
    "date_range = (pd.date_range(start='20200501', end=datetime.date.today())).strftime(\"%Y%m%d\").tolist()\n",
    "base_url= 'https://news.naver.com/main/ranking/popularDay.nhn'\n",
    "params = {\n",
    "    'rankingType' : 'popular_day',\n",
    "    'date' : ''\n",
    "}\n",
    "\n",
    "NewsList = news_link_crawler(date_range, base_url, params)\n",
    "FinallyNewsList = news_body_crawler(NewsList)\n",
    "df_news = pd.DataFrame(FinallyNewsList)\n",
    "print('=====END News Crawling=====')"
   ]
  },
  {
   "cell_type": "code",
   "execution_count": 6,
   "metadata": {},
   "outputs": [
    {
     "data": {
      "text/html": [
       "<div>\n",
       "<style scoped>\n",
       "    .dataframe tbody tr th:only-of-type {\n",
       "        vertical-align: middle;\n",
       "    }\n",
       "\n",
       "    .dataframe tbody tr th {\n",
       "        vertical-align: top;\n",
       "    }\n",
       "\n",
       "    .dataframe thead th {\n",
       "        text-align: right;\n",
       "    }\n",
       "</style>\n",
       "<table border=\"1\" class=\"dataframe\">\n",
       "  <thead>\n",
       "    <tr style=\"text-align: right;\">\n",
       "      <th></th>\n",
       "      <th>날짜</th>\n",
       "      <th>title</th>\n",
       "      <th>category</th>\n",
       "      <th>summary</th>\n",
       "    </tr>\n",
       "  </thead>\n",
       "  <tbody>\n",
       "    <tr>\n",
       "      <td>0</td>\n",
       "      <td>2020-05-01</td>\n",
       "      <td>지성호 “김정은 지난 주말 수술 쇼크로 사망했다”</td>\n",
       "      <td>정치</td>\n",
       "      <td>탈북민 출신 인권운동가 지성호 미래한국당 국회의원 당선인이 김정은 북한 국무위원장의...</td>\n",
       "    </tr>\n",
       "    <tr>\n",
       "      <td>1</td>\n",
       "      <td>2020-05-01</td>\n",
       "      <td>지성호 \"김정은 지난 주말 사망.. 99% 확신\" 주장</td>\n",
       "      <td>정치</td>\n",
       "      <td>탈북자 출신 인권운동가 지성호 미래한국당 비례대표 당선자는 1일 김정은이 사망한 것...</td>\n",
       "    </tr>\n",
       "    <tr>\n",
       "      <td>2</td>\n",
       "      <td>2020-05-01</td>\n",
       "      <td>[인터뷰] \"김정은 사망 99% 확신\" 지성호 주장 이유는?</td>\n",
       "      <td>정치</td>\n",
       "      <td>오늘 우리 지성호 당선인 또 미래통합당의 태구민 태영호 당선인이 대한민국 국회의원...</td>\n",
       "    </tr>\n",
       "    <tr>\n",
       "      <td>3</td>\n",
       "      <td>2020-05-01</td>\n",
       "      <td>휴가 취소하고 걸어서 곰탕집 간 文 \"식당 이용 활발했으면\"</td>\n",
       "      <td>정치</td>\n",
       "      <td>문재인 대통령이 1일 참모진들과 청와대 주변 한 곰탕집을 찾아 오찬을 했다.문 대통...</td>\n",
       "    </tr>\n",
       "    <tr>\n",
       "      <td>4</td>\n",
       "      <td>2020-05-01</td>\n",
       "      <td>지성호 \"김정은 사망 99% 확신\" 청와대 \"특이동향 없다\"(종합)</td>\n",
       "      <td>정치</td>\n",
       "      <td>탈북자 출신으로 4·15 총선에서 미래한국당 비례대표로 당선된 지성호 당선인은 1일...</td>\n",
       "    </tr>\n",
       "    <tr>\n",
       "      <td>...</td>\n",
       "      <td>...</td>\n",
       "      <td>...</td>\n",
       "      <td>...</td>\n",
       "      <td>...</td>\n",
       "    </tr>\n",
       "    <tr>\n",
       "      <td>820</td>\n",
       "      <td>2020-06-24</td>\n",
       "      <td>[속보] 충남 부여 50대女 코로나 확진…“대전 확진자 접촉”</td>\n",
       "      <td>사회</td>\n",
       "      <td>충남 부여군은 24일 부여읍에 거주하는 50대 여성이 코로나19 확진 판정을 받았다...</td>\n",
       "    </tr>\n",
       "    <tr>\n",
       "      <td>821</td>\n",
       "      <td>2020-06-24</td>\n",
       "      <td>[속보] 충남 부여서 50대 여성 확진…\"대전 93번 확진자 접촉\"</td>\n",
       "      <td>사회</td>\n",
       "      <td>해당 기사는 요청하신 자동 요약문을 제공할 수 없습니다.</td>\n",
       "    </tr>\n",
       "    <tr>\n",
       "      <td>822</td>\n",
       "      <td>2020-06-24</td>\n",
       "      <td>쿠팡 물류센터 '또' 확진…2천 명 근무하는데</td>\n",
       "      <td>사회</td>\n",
       "      <td>그런가 하면 쿠팡 물류 센터에서또 확진자가 발생했습니다.경기도 이천시 덕평 물류 센...</td>\n",
       "    </tr>\n",
       "    <tr>\n",
       "      <td>823</td>\n",
       "      <td>2020-06-24</td>\n",
       "      <td>신동주 故신격호 유언장 발견장소에 의문 \"생전 발언과 달라\"</td>\n",
       "      <td>사회</td>\n",
       "      <td>롯데그룹 창업주인 고 신격호 명예회장의 자필 유언장이 24일 공개된 가운데 장남인 ...</td>\n",
       "    </tr>\n",
       "    <tr>\n",
       "      <td>824</td>\n",
       "      <td>2020-06-24</td>\n",
       "      <td>“공기업 정규직화 중단” 靑 청원 하루만에 답변기준 20만명 넘어</td>\n",
       "      <td>사회</td>\n",
       "      <td>인천국제공항공사가 보안검색 직원을 직접 고용하기로 한 결정에 반대하며 공공기관 비정...</td>\n",
       "    </tr>\n",
       "  </tbody>\n",
       "</table>\n",
       "<p>825 rows × 4 columns</p>\n",
       "</div>"
      ],
      "text/plain": [
       "             날짜                                  title category  \\\n",
       "0    2020-05-01            지성호 “김정은 지난 주말 수술 쇼크로 사망했다”       정치   \n",
       "1    2020-05-01         지성호 \"김정은 지난 주말 사망.. 99% 확신\" 주장       정치   \n",
       "2    2020-05-01      [인터뷰] \"김정은 사망 99% 확신\" 지성호 주장 이유는?       정치   \n",
       "3    2020-05-01      휴가 취소하고 걸어서 곰탕집 간 文 \"식당 이용 활발했으면\"       정치   \n",
       "4    2020-05-01  지성호 \"김정은 사망 99% 확신\" 청와대 \"특이동향 없다\"(종합)       정치   \n",
       "..          ...                                    ...      ...   \n",
       "820  2020-06-24     [속보] 충남 부여 50대女 코로나 확진…“대전 확진자 접촉”       사회   \n",
       "821  2020-06-24  [속보] 충남 부여서 50대 여성 확진…\"대전 93번 확진자 접촉\"       사회   \n",
       "822  2020-06-24              쿠팡 물류센터 '또' 확진…2천 명 근무하는데       사회   \n",
       "823  2020-06-24      신동주 故신격호 유언장 발견장소에 의문 \"생전 발언과 달라\"       사회   \n",
       "824  2020-06-24   “공기업 정규직화 중단” 靑 청원 하루만에 답변기준 20만명 넘어       사회   \n",
       "\n",
       "                                               summary  \n",
       "0    탈북민 출신 인권운동가 지성호 미래한국당 국회의원 당선인이 김정은 북한 국무위원장의...  \n",
       "1    탈북자 출신 인권운동가 지성호 미래한국당 비례대표 당선자는 1일 김정은이 사망한 것...  \n",
       "2     오늘 우리 지성호 당선인 또 미래통합당의 태구민 태영호 당선인이 대한민국 국회의원...  \n",
       "3    문재인 대통령이 1일 참모진들과 청와대 주변 한 곰탕집을 찾아 오찬을 했다.문 대통...  \n",
       "4    탈북자 출신으로 4·15 총선에서 미래한국당 비례대표로 당선된 지성호 당선인은 1일...  \n",
       "..                                                 ...  \n",
       "820  충남 부여군은 24일 부여읍에 거주하는 50대 여성이 코로나19 확진 판정을 받았다...  \n",
       "821                    해당 기사는 요청하신 자동 요약문을 제공할 수 없습니다.  \n",
       "822  그런가 하면 쿠팡 물류 센터에서또 확진자가 발생했습니다.경기도 이천시 덕평 물류 센...  \n",
       "823  롯데그룹 창업주인 고 신격호 명예회장의 자필 유언장이 24일 공개된 가운데 장남인 ...  \n",
       "824  인천국제공항공사가 보안검색 직원을 직접 고용하기로 한 결정에 반대하며 공공기관 비정...  \n",
       "\n",
       "[825 rows x 4 columns]"
      ]
     },
     "execution_count": 6,
     "metadata": {},
     "output_type": "execute_result"
    }
   ],
   "source": [
    "df_news"
   ]
  },
  {
   "cell_type": "code",
   "execution_count": null,
   "metadata": {},
   "outputs": [],
   "source": []
  }
 ],
 "metadata": {
  "kernelspec": {
   "display_name": "Python 3",
   "language": "python",
   "name": "python3"
  },
  "language_info": {
   "codemirror_mode": {
    "name": "ipython",
    "version": 3
   },
   "file_extension": ".py",
   "mimetype": "text/x-python",
   "name": "python",
   "nbconvert_exporter": "python",
   "pygments_lexer": "ipython3",
   "version": "3.7.4"
  }
 },
 "nbformat": 4,
 "nbformat_minor": 2
}
