{
 "cells": [
  {
   "cell_type": "code",
   "execution_count": 1,
   "metadata": {},
   "outputs": [],
   "source": [
    "import requests\n",
    "from bs4 import BeautifulSoup\n",
    "import pandas as pd\n",
    "from urllib.parse import urljoin\n",
    "import datetime"
   ]
  },
  {
   "cell_type": "markdown",
   "metadata": {},
   "source": [
    "#### 네이버 환율 일별시세\n",
    "\n",
    "- 미국(USD), 유럽연합(EUR), 일본(JPY), 중국(CNY) 통화의 매매기준율 추출"
   ]
  },
  {
   "cell_type": "code",
   "execution_count": 2,
   "metadata": {
    "scrolled": true
   },
   "outputs": [],
   "source": [
    "def exchange_day_sise_crawler(country, base_url):\n",
    "\n",
    "    temp_dict = {}\n",
    "\n",
    "    usaList = []\n",
    "    eurList = []\n",
    "    jpyList = []\n",
    "    cnyList = []\n",
    "\n",
    "    for country_name, country_code in country.items():\n",
    "        dateList = []\n",
    "        for i in range(1,10):\n",
    "            params = {\n",
    "                'marketindexCd': country_code,\n",
    "            }\n",
    "\n",
    "            resp = requests.get(base_url, params=params)\n",
    "            soup = BeautifulSoup(resp.text)\n",
    "\n",
    "            _iframe = soup.find_all('iframe')\n",
    "            day_sise = urljoin(base_url,_iframe[1].get('src'))\n",
    "            day_sise = day_sise+'&page='+str(i)\n",
    "\n",
    "            resp2 = requests.get(day_sise)\n",
    "            soup2 = BeautifulSoup(resp2.text,'lxml')\n",
    "\n",
    "            day_body = soup2.select('tbody tr')\n",
    "            \n",
    "            # 각 나라별 환율정보 저장\n",
    "            for body in day_body:\n",
    "                dateList.append(body.find('td', class_='date').text.replace('.','-'))\n",
    "\n",
    "                if country_name == 'USA':\n",
    "                    usaList.append(body.find('td', class_='num').text)\n",
    "\n",
    "                elif country_name == 'EUR':\n",
    "                    eurList.append(body.find('td', class_='num').text)\n",
    "\n",
    "                elif country_name == 'JPY':\n",
    "                    jpyList.append(body.find('td', class_='num').text)\n",
    "\n",
    "                elif country_name == 'CNY':\n",
    "                    cnyList.append(body.find('td', class_='num').text)\n",
    "    \n",
    "    df1 = pd.DataFrame({'날짜' : dateList,\n",
    "                        'USA' : usaList,\n",
    "                        'EUR' : eurList,\n",
    "                        'JPY' : jpyList,\n",
    "                        'CNY' : cnyList})\n",
    "    \n",
    "    return df1"
   ]
  },
  {
   "cell_type": "markdown",
   "metadata": {},
   "source": [
    "#### 수집해야할 모든날짜 DataFrame 만들기 (공휴일 포함)"
   ]
  },
  {
   "cell_type": "code",
   "execution_count": 3,
   "metadata": {
    "scrolled": true
   },
   "outputs": [],
   "source": [
    "def all_date_range_df(date_range):\n",
    "    \n",
    "    df2 = pd.DataFrame({'날짜':date_range})\n",
    "    \n",
    "    return df2"
   ]
  },
  {
   "cell_type": "markdown",
   "metadata": {},
   "source": [
    "#### 두개의 DataFrame 병합"
   ]
  },
  {
   "cell_type": "code",
   "execution_count": 4,
   "metadata": {
    "scrolled": true
   },
   "outputs": [],
   "source": [
    "def df_outer_join_merge(df1, df2):\n",
    "    \n",
    "    # 두 df을 '날짜'키 값을 기준으로 outer_join 병합\n",
    "    df_OUTER_JOIN = pd.merge(df1, df2, left_on='날짜', right_on='날짜', how='outer', sort=True)\n",
    "    \n",
    "    # 두 값중 결측값을 앞 방향으로 채우기 (공휴일에 없는 환율정보는 전날을 기준으로 결측값 채우기)\n",
    "    # https://rfriend.tistory.com/262\n",
    "    df_finally = df_OUTER_JOIN.fillna(method='ffill')\n",
    "    \n",
    "    return df_finally"
   ]
  },
  {
   "cell_type": "code",
   "execution_count": 5,
   "metadata": {},
   "outputs": [],
   "source": [
    "def save_df_to_csv(df_finally):\n",
    "    df_finally.to_csv('naver_exchange_crawling.csv', encoding='utf-8', index=False)"
   ]
  },
  {
   "cell_type": "code",
   "execution_count": 6,
   "metadata": {},
   "outputs": [
    {
     "name": "stdout",
     "output_type": "stream",
     "text": [
      "=====END Exchange Crawling=====\n"
     ]
    }
   ],
   "source": [
    "country = {'USA':'FX_USDKRW', 'EUR':'FX_EURKRW', 'JPY':'FX_JPYKRW', 'CNY':'FX_CNYKRW'}\n",
    "base_url = 'https://finance.naver.com/marketindex/exchangeDetail.nhn'\n",
    "\n",
    "date_range = (pd.date_range(start='20200501', end=datetime.date.today())).strftime(\"%Y-%m-%d\").tolist()\n",
    "\n",
    "ExchangeDf = exchange_day_sise_crawler(country, base_url)\n",
    "DateDf = all_date_range_df(date_range)\n",
    "FinallyDf = df_outer_join_merge(ExchangeDf, DateDf)\n",
    "#     save_df_to_csv(FinallyDf)\n",
    "\n",
    "print('=====END Exchange Crawling=====')"
   ]
  },
  {
   "cell_type": "code",
   "execution_count": null,
   "metadata": {},
   "outputs": [],
   "source": []
  }
 ],
 "metadata": {
  "kernelspec": {
   "display_name": "Python 3",
   "language": "python",
   "name": "python3"
  },
  "language_info": {
   "codemirror_mode": {
    "name": "ipython",
    "version": 3
   },
   "file_extension": ".py",
   "mimetype": "text/x-python",
   "name": "python",
   "nbconvert_exporter": "python",
   "pygments_lexer": "ipython3",
   "version": "3.7.4"
  }
 },
 "nbformat": 4,
 "nbformat_minor": 2
}
