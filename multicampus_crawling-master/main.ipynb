{
 "cells": [
  {
   "cell_type": "markdown",
   "metadata": {},
   "source": [
    "##### ! pip install pymysql 설치"
   ]
  },
  {
   "cell_type": "code",
   "execution_count": 1,
   "metadata": {},
   "outputs": [],
   "source": [
    "import import_ipynb"
   ]
  },
  {
   "cell_type": "code",
   "execution_count": 2,
   "metadata": {
    "scrolled": true
   },
   "outputs": [
    {
     "name": "stdout",
     "output_type": "stream",
     "text": [
      "importing Jupyter notebook from movie_crawling.ipynb\n"
     ]
    },
    {
     "data": {
      "application/vnd.jupyter.widget-view+json": {
       "model_id": "17932fe8bdf14f8e8bbc41a3fcb63242",
       "version_major": 2,
       "version_minor": 0
      },
      "text/plain": [
       "HBox(children=(IntProgress(value=0, max=67), HTML(value='')))"
      ]
     },
     "metadata": {},
     "output_type": "display_data"
    },
    {
     "name": "stderr",
     "output_type": "stream",
     "text": [
      "C:\\ProgramData\\Anaconda3\\lib\\site-packages\\bs4\\__init__.py:181: UserWarning: No parser was explicitly specified, so I'm using the best available HTML parser for this system (\"lxml\"). This usually isn't a problem, but if you run this code on another system, or in a different virtual environment, it may use a different parser and behave differently.\n",
      "\n",
      "The code that caused this warning is on line 193 of the file C:\\ProgramData\\Anaconda3\\lib\\runpy.py. To get rid of this warning, change code that looks like this:\n",
      "\n",
      " BeautifulSoup(YOUR_MARKUP})\n",
      "\n",
      "to this:\n",
      "\n",
      " BeautifulSoup(YOUR_MARKUP, \"lxml\")\n",
      "\n",
      "  markup_type=markup_type))\n"
     ]
    },
    {
     "name": "stdout",
     "output_type": "stream",
     "text": [
      "\n",
      "=====END Movie Crawling=====\n",
      "importing Jupyter notebook from weather_crawling.ipynb\n",
      "=====END Weather Crawling=====\n",
      "importing Jupyter notebook from melon_crawling.ipynb\n",
      "=====END Melon Crawling=====\n",
      "importing Jupyter notebook from naver_ranking_news_crawling.ipynb\n"
     ]
    },
    {
     "data": {
      "application/vnd.jupyter.widget-view+json": {
       "model_id": "6fc81990f6cf44e18011b36856f9f014",
       "version_major": 2,
       "version_minor": 0
      },
      "text/plain": [
       "HBox(children=(IntProgress(value=0, max=67), HTML(value='')))"
      ]
     },
     "metadata": {},
     "output_type": "display_data"
    },
    {
     "name": "stdout",
     "output_type": "stream",
     "text": [
      "\n",
      "=====END News Crawling=====\n",
      "importing Jupyter notebook from naver_exchang_crawling.ipynb\n",
      "=====END Exchange Crawling=====\n",
      "importing Jupyter notebook from Job_opening_crawling.ipynb\n",
      "=====END Job Crawling=====\n"
     ]
    }
   ],
   "source": [
    "from movie_crawling import data\n",
    "from weather_crawling import final_data\n",
    "from melon_crawling import m\n",
    "from  naver_ranking_news_crawling import df_news\n",
    "from naver_exchang_crawling import FinallyDf\n",
    "from Job_opening_crawling import df"
   ]
  },
  {
   "cell_type": "code",
   "execution_count": 3,
   "metadata": {},
   "outputs": [
    {
     "data": {
      "application/javascript": [
       "\n",
       "console.log('Starting front end url_querystring_target comm target');\n",
       "const comm = Jupyter.notebook.kernel.comm_manager.new_comm('url_querystring_target', {'init': 1});\n",
       "comm.send({'ipyparams_browser_url': window.location.href});\n",
       "console.log('Sent window.location.href on url_querystring_target comm target');\n",
       "\n",
       "comm.on_msg(function(msg) {\n",
       "    console.log(msg.content.data);\n",
       "});\n"
      ],
      "text/plain": [
       "<IPython.core.display.Javascript object>"
      ]
     },
     "metadata": {},
     "output_type": "display_data"
    }
   ],
   "source": [
    "import pymysql\n",
    "import pandas as pd\n",
    "import smtplib, ssl\n",
    "import numpy as np\n",
    "import smtplib \n",
    "from email.mime.text import MIMEText\n",
    "from email.mime.multipart import MIMEMultipart\n",
    "import ipyparams"
   ]
  },
  {
   "cell_type": "markdown",
   "metadata": {},
   "source": [
    "1. getConnection()을 통해 mysql과 연결\n",
    "2. cursor() 메서드를 호출하여 Cursor 객체를 가져오기\n",
    "3. execute() 메서드를 사용하여 SQL 문장을 DB 서버에 보내기\n",
    "4. commit() 메서드를 사용하여 데이타를 확정 갱신\n",
    "5. close() 메서드를 사용하여 DB 연결을 닫는다."
   ]
  },
  {
   "cell_type": "code",
   "execution_count": 4,
   "metadata": {},
   "outputs": [],
   "source": [
    "def getConnection():\n",
    "    con = pymysql.connect(host='localhost', \n",
    "                           user = 'root', \n",
    "                           password='DB_password',\n",
    "                           db='DB_name',\n",
    "                           charset='utf8',\n",
    "                           cursorclass=pymysql.cursors.DictCursor)\n",
    "    return con"
   ]
  },
  {
   "cell_type": "markdown",
   "metadata": {},
   "source": [
    "#####  table  생성 (CREATE 사용)"
   ]
  },
  {
   "cell_type": "code",
   "execution_count": 5,
   "metadata": {},
   "outputs": [],
   "source": [
    "def make_table(table_name, table_colums):\n",
    "\n",
    "    conn = getConnection()\n",
    "    try:\n",
    "        with conn.cursor() as cursor:\n",
    "            print('creating table ...')\n",
    "            \n",
    "            # 테이블이 생성되지 않은 경우만 테이블 생성\n",
    "            sql = 'CREATE TABLE IF NOT EXISTS {} {}'.format(table_name, table_colums)\n",
    "            cursor.execute(sql)\n",
    "        conn.commit()\n",
    "    finally:\n",
    "        conn.close()    "
   ]
  },
  {
   "cell_type": "code",
   "execution_count": 6,
   "metadata": {},
   "outputs": [],
   "source": [
    "pymysql.converters.encoders[np.float64] = pymysql.converters.escape_float\n",
    "pymysql.converters.conversions = pymysql.converters.encoders.copy()\n",
    "pymysql.converters.conversions.update(pymysql.converters.decoders)\n",
    "pymysql.converters.encoders[np.int64] = pymysql.converters.escape_int\n",
    "pymysql.converters.conversions = pymysql.converters.encoders.copy()\n",
    "pymysql.converters.conversions.update(pymysql.converters.decoders)"
   ]
  },
  {
   "cell_type": "markdown",
   "metadata": {},
   "source": [
    "##### data 입력 ( INSERT 사용)"
   ]
  },
  {
   "cell_type": "code",
   "execution_count": 7,
   "metadata": {},
   "outputs": [],
   "source": [
    "def input_data(table_name, Data, legth_h):\n",
    "\n",
    "    conn = getConnection()\n",
    "    try:\n",
    "        with conn.cursor() as cursor:\n",
    "            print('inserting data ...')\n",
    "            \n",
    "            sql = \"INSERT INTO {} VALUES ({}{})\".format(table_name,'%s, '*(legth_h-1),'%s')\n",
    "            for i in Data.index:\n",
    "                val = tuple(Data.loc[i,Data.columns])\n",
    "                cursor.execute(sql, val)\n",
    "    \n",
    "        conn.commit()\n",
    "        print(cursor.rowcount, \"record inserted.\")\n",
    "    finally:\n",
    "        conn.close()    "
   ]
  },
  {
   "cell_type": "markdown",
   "metadata": {},
   "source": [
    "#####  원하는 날짜의 데이터 선택하기"
   ]
  },
  {
   "cell_type": "code",
   "execution_count": 8,
   "metadata": {},
   "outputs": [],
   "source": [
    "def data_choose(df,input_date):\n",
    "    return (df[df['날짜']== input_date])"
   ]
  },
  {
   "cell_type": "markdown",
   "metadata": {},
   "source": [
    "##### data 조회 (SELECT 사용)"
   ]
  },
  {
   "cell_type": "code",
   "execution_count": 9,
   "metadata": {},
   "outputs": [],
   "source": [
    "def data_select(table_name, input_date):\n",
    "\n",
    "    conn = getConnection()\n",
    "    try:\n",
    "        with conn.cursor() as cursor:\n",
    "            sql = \"SELECT * FROM {}\".format(table_name)\n",
    "            cursor.execute(sql)\n",
    "            \n",
    "            query_result = pd.read_sql (sql, conn)\n",
    "            return (data_choose(query_result, input_date))\n",
    "\n",
    "    finally:\n",
    "        conn.close()"
   ]
  },
  {
   "cell_type": "markdown",
   "metadata": {},
   "source": [
    "##### 구글 이메일 보내기"
   ]
  },
  {
   "cell_type": "code",
   "execution_count": 10,
   "metadata": {},
   "outputs": [],
   "source": [
    "def current_notebook_name() :\n",
    "    notebook_name = ipyparams.notebook_name\n",
    "    return notebook_name\n",
    "\n",
    "notebookName = current_notebook_name()"
   ]
  },
  {
   "cell_type": "markdown",
   "metadata": {},
   "source": [
    "- SSL과 TLS는 사용자와 웹 브라우저 간 통신을 암호화하는데 사용하는 프로토콜\n",
    "- starttls() : ttl하면 필요한 거\n",
    "- login() : 구글 이메일 로그인하기(이메일주소, 비밀번호)"
   ]
  },
  {
   "cell_type": "code",
   "execution_count": 11,
   "metadata": {},
   "outputs": [],
   "source": [
    "def send_email_3(exchange_msg,news_msg,weather_msg,job_msg,movie_msg,music_msg):\n",
    "    s = smtplib.SMTP('smtp.gmail.com',587)\n",
    "    s.starttls()\n",
    "    s.login('@gmail.com','password')\n",
    "    \n",
    "    exchange_msg = exchange_msg.to_html(index = False )  # 데이터프레임을 html로 변환\n",
    "    weather_msg = weather_msg.to_html(index = False )\n",
    "    news_msg = news_msg.to_html(index = False )\n",
    "    job_msg = job_msg.to_html(index = False )\n",
    "    movie_msg = movie_msg.to_html(index = False )\n",
    "    music_msg = music_msg.to_html(index = False )\n",
    "    pre =\\\n",
    "        \"\"\"\n",
    "        <html>\n",
    "        <head>\n",
    "        <style>\n",
    "        .ft-default-1 { font-size: 24px; }\n",
    "        .ft-default-2 { font-size: 32px; }\n",
    "        .ft-smaller { font-size: smaller; }\n",
    "        .ft-larger { font-size: larger; }\n",
    "        table {\n",
    "            width : 90%;\n",
    "            text-align: center;\n",
    "            line-height: 1.5;\n",
    "            margin: 3px 3px;\n",
    "        }\n",
    "        table th {\n",
    "            width: auto;\n",
    "            padding: 10px;\n",
    "            font-weight: bold;\n",
    "            text-align: center;\n",
    "            vertical-align: top;\n",
    "            color: #fff;\n",
    "            background: #ce4869 ;\n",
    "        }\n",
    "        table td {\n",
    "            width: auto;\n",
    "            vertical-align: top;\n",
    "            text-align: center;\n",
    "            border-bottom: 1px solid #ccc;\n",
    "        }\n",
    "        </style>\n",
    "        </head>\n",
    "        <center><span class=\"ft-default-2\">\"\"\" + \"\"\"{}</span></center>\"\"\".format(notebookName)\n",
    "\n",
    "    one ='<div style=\"width:50%;float:left;\"><table id=\"tbl1\"><caption class=\"ft-default-1\">{}</caption>{}</table></div>'.format(\"뉴스 속보\" , news_msg)\n",
    "    two ='<div style=\"width:50%;float:right;\"><table id=\"tbl2\"><caption class=\"ft-default-1\">{}</caption>{}</table></div>'.format(\"날씨\",  weather_msg)\n",
    "    three ='<div style=\"width:50%;float:left;\"><table id=\"tbl3\"><caption class=\"ft-default-1\">{}</caption>{}</table></div>'.format(\"추천노래\",  music_msg)\n",
    "    four ='<div style=\"width:50%;float:right;\"><table id=\"tbl4\"><caption class=\"ft-default-1\">{}</caption>{}</table></div>'.format(\"채용정보\",  job_msg)\n",
    "    five ='<div style=\"width:50%;float:left;\"><table id=\"tbl5\"><caption class=\"ft-default-1\">{}</caption>{}</table></div>'.format(\"환율\" , exchange_msg)\n",
    "    six ='<div style=\"width:50%;float:right;\"><table id=\"tbl6\"><caption class=\"ft-default-1\">{}</caption>{}</table></div>'.format(\"영화정보\" , movie_msg)\n",
    "    sendHtml = '{}<body><div>{}{}{}{}{}{}</div></body></html>'.format(pre , one , two, three, four, five, six)\n",
    "    msg = MIMEMultipart()\n",
    "    \n",
    "    # 메일 본문 작성\n",
    "    part1 = MIMEText(sendHtml,'html')\n",
    "    # 메세지를 메일에 붙여 줍니다.\n",
    "    msg.attach(part1)\n",
    "    \n",
    "    msg['Subject']= '원하는 날짜의 뉴스/날씨/노래/채용/환율/영화정보 결과입니다.'\n",
    "    # 메일 서버를 이용하여 메일을 발송합니다.  #msg는 object이기 때문에 전송을 위해 .as_string()으로 문자열로 바꿔야함(parsing)\n",
    "    s.sendmail('@gmail.com','6@gmail.com', msg.as_string())\n",
    "    \n",
    "    print('Sent')\n",
    "    s.quit()"
   ]
  },
  {
   "cell_type": "markdown",
   "metadata": {},
   "source": [
    "#####  main.py"
   ]
  },
  {
   "cell_type": "code",
   "execution_count": 12,
   "metadata": {
    "scrolled": true
   },
   "outputs": [
    {
     "name": "stdout",
     "output_type": "stream",
     "text": [
      "원하는 날짜를 입력하세요 (2020-05-01 ~ 2020-06-11)  : 2020-06-08\n",
      "             날짜       USA       EUR       JPY     CNY\n",
      "0    2020-02-26  1,215.00  1,322.35  1,100.54  172.88\n",
      "1    2020-02-27  1,212.00  1,326.35  1,100.77  172.84\n",
      "2    2020-02-28  1,210.50  1,335.67  1,114.18  173.08\n",
      "3    2020-03-02  1,194.00  1,323.67  1,107.66  171.38\n",
      "4    2020-03-03  1,193.00  1,325.84  1,104.58  170.97\n",
      "..          ...       ...       ...       ...     ...\n",
      "107  2020-07-02  1,199.00  1,353.49  1,115.61  169.59\n",
      "108  2020-07-03  1,199.50  1,347.28  1,115.81  169.74\n",
      "109  2020-07-04  1,199.50  1,347.28  1,115.81  169.74\n",
      "110  2020-07-05  1,199.50  1,347.28  1,115.81  169.74\n",
      "111  2020-07-06  1,196.80  1,350.29  1,111.23  169.72\n",
      "\n",
      "[112 rows x 5 columns]\n",
      "5\n",
      "creating table ...\n",
      "inserting data ...\n",
      "1 record inserted.\n",
      "              날짜                                  title category  \\\n",
      "0     2020-05-01            지성호 “김정은 지난 주말 수술 쇼크로 사망했다”       정치   \n",
      "1     2020-05-01         지성호 \"김정은 지난 주말 사망.. 99% 확신\" 주장       정치   \n",
      "2     2020-05-01      [인터뷰] \"김정은 사망 99% 확신\" 지성호 주장 이유는?       정치   \n",
      "3     2020-05-01      휴가 취소하고 걸어서 곰탕집 간 文 \"식당 이용 활발했으면\"       정치   \n",
      "4     2020-05-01  지성호 \"김정은 사망 99% 확신\" 청와대 \"특이동향 없다\"(종합)       정치   \n",
      "...          ...                                    ...      ...   \n",
      "1000  2020-07-06   [속보] 경찰 “‘구급차 막은 택시’ 형사법위반 인정시 추가입건”       사회   \n",
      "1001  2020-07-06     최숙현 동료들의 국회 폭로 \"처벌 1순위는 전 주장인 장윤정\"       사회   \n",
      "1002  2020-07-06        [속보] 서초구서 1명 자가격리 중 코로나19 추가 확진       사회   \n",
      "1003  2020-07-06     [전문]\"숙현이 언니 정신병자 취급한 주장선수가 처벌 1순위\"       사회   \n",
      "1004  2020-07-06      구급차 막은 택시기사에 “당신도 부모가 있을 텐데 어떻게…”       사회   \n",
      "\n",
      "                                                summary  \n",
      "0     탈북민 출신 인권운동가 지성호 미래한국당 국회의원 당선인이 김정은 북한 국무위원장의...  \n",
      "1     탈북자 출신 인권운동가 지성호 미래한국당 비례대표 당선자는 1일 김정은이 사망한 것...  \n",
      "2      왜냐하면 정말 대한민국 국민들이 내는 세금으로 일을 해야 하고 국가를 위해서 일해...  \n",
      "3     문재인 대통령이 1일 참모진들과 청와대 주변 한 곰탕집을 찾아 오찬을 했다.문 대통...  \n",
      "4     탈북자 출신으로 4·15 총선에서 미래한국당 비례대표로 당선된 지성호 당선인은 1일...  \n",
      "...                                                 ...  \n",
      "1000  구급차를 막은 택시 탓에 응급환자가 사망했다는 의혹을 수사하고 있는 경찰이 택시 기...  \n",
      "1001  지난달 26일 극단적 선택을 한 고 최숙현 트라이애슬론 선수와 함께 경주시청 선수 ...  \n",
      "1002  서울 서초구에서 6일 60번째 신종 코로나 바이러스 감염증 환자가 발생했다.서초구에...  \n",
      "1003  고 최숙현 선수의 동료들이 6일 경주시청 트라이애슬론팀은 감독과 특정 선수만의 왕국...  \n",
      "1004  접촉사고 처리를 하고 가라며 택시기사가 구급차를 막아선 끝에 이송되던 환자가 당일 ...  \n",
      "\n",
      "[1005 rows x 4 columns]\n",
      "4\n",
      "creating table ...\n",
      "inserting data ...\n",
      "1 record inserted.\n",
      "            날짜  최저기온  최고기온  비  강수량                                옷차림  날씨\n",
      "0   2020-05-01  16.4  26.2  X    0  긴팔티 / 가디건 / 후드티 / 면바지 / 슬랙스 / 청바지  더위\n",
      "1   2020-05-02    18  23.9  X    0  긴팔티 / 가디건 / 후드티 / 면바지 / 슬랙스 / 청바지  더위\n",
      "2   2020-05-03    17  27.4  X    0  긴팔티 / 가디건 / 후드티 / 면바지 / 슬랙스 / 청바지  더위\n",
      "3   2020-05-04  14.8  25.3  X    0  긴팔티 / 가디건 / 후드티 / 면바지 / 슬랙스 / 청바지  더위\n",
      "4   2020-05-05  13.1  19.3  X    0  긴팔티 / 가디건 / 후드티 / 면바지 / 슬랙스 / 청바지  쌀쌀\n",
      "..         ...   ...   ... ..  ...                                ...  ..\n",
      "62  2020-07-02  20.4  29.8  X    0  긴팔티 / 가디건 / 후드티 / 면바지 / 슬랙스 / 청바지  더위\n",
      "63  2020-07-03  21.6  30.6  O  0.1  긴팔티 / 가디건 / 후드티 / 면바지 / 슬랙스 / 청바지   비\n",
      "64  2020-07-04  20.4  29.5  O  1.6  긴팔티 / 가디건 / 후드티 / 면바지 / 슬랙스 / 청바지   비\n",
      "65  2020-07-05  19.9  27.6  X    0  긴팔티 / 가디건 / 후드티 / 면바지 / 슬랙스 / 청바지  더위\n",
      "66  2020-07-06    30    30  O  5.3             겨울 옷(야상, 패딩, 목도리 등등 다)   비\n",
      "\n",
      "[67 rows x 7 columns]\n",
      "7\n",
      "creating table ...\n",
      "inserting data ...\n",
      "1 record inserted.\n",
      "            날짜       회사\n",
      "0   2020-05-01    한신공영㈜\n",
      "1   2020-05-02       한샘\n",
      "2   2020-05-03     None\n",
      "3   2020-05-04  현대오일뱅크㈜\n",
      "4   2020-05-05   ㈜코리아센터\n",
      "..         ...      ...\n",
      "57  2020-07-27     None\n",
      "58  2020-07-28     None\n",
      "59  2020-07-29     None\n",
      "60  2020-07-30     None\n",
      "61  2020-07-31     None\n",
      "\n",
      "[62 rows x 2 columns]\n",
      "2\n",
      "creating table ...\n",
      "inserting data ...\n",
      "1 record inserted.\n",
      "              제목          날짜     평점                장르       국가   상영시간  \\\n",
      "0           가버나움  2020-05-01  9.54점               드라마  레바논,프랑스  126분    \n",
      "1         위대한 쇼맨  2020-05-01  9.31점           드라마,뮤지컬       미국  104분    \n",
      "2         에이리언 2  2020-05-01     없음      SF,공포,스릴러,액션       미국  137분    \n",
      "3         다크 나이트  2020-05-01  9.56점    액션,범죄,드라마,미스터리       미국  152분    \n",
      "4    패왕별희 디 오리지널  2020-05-01  9.65점               드라마    중국,홍콩  171분    \n",
      "..           ...         ...    ...               ...      ...    ...   \n",
      "665          우리들  2020-07-06  9.21점               드라마       한국   94분    \n",
      "666          톰보이  2020-07-06  8.86점               드라마      프랑스   82분    \n",
      "667   시간을 달리는 소녀  2020-07-06  9.43점  애니메이션,가족,드라마,판타지       일본   97분    \n",
      "668         오아시스  2020-07-06     없음               드라마       한국  132분    \n",
      "669      스타 이즈 본  2020-07-06  9.15점        드라마,멜로/로맨스       미국  135분    \n",
      "\n",
      "                                                   개봉일  \\\n",
      "0                                         2019.01.24개봉   \n",
      "1                           2020.05.21재개봉,2017.12.20개봉   \n",
      "2                                         1986.12.24개봉   \n",
      "3    2020.07.01재개봉,2017.07.12재개봉,2009.02.19재개봉,2008...   \n",
      "4             2020.05.01재개봉,2017.03.30재개봉,1993.12.24개봉   \n",
      "..                                                 ...   \n",
      "665                                       2016.06.16개봉   \n",
      "666                                       2020.05.14개봉   \n",
      "667           2016.01.14재개봉,2014.04.25재개봉,2007.06.14개봉   \n",
      "668                                       2002.08.15개봉   \n",
      "669                                       2018.10.09개봉   \n",
      "\n",
      "                                                   줄거리  \n",
      "0    나를 세상에 태어나게 한 \"부모님을 고소하고 싶어요...\"-출생기록조차 없이 살아온...  \n",
      "1    쇼 비즈니스의 창시자이자, 꿈의 무대로 전세계를 매료시킨 남자‘바넘’의 이야기에서 ...  \n",
      "2    에이리언과의 싸움에서 간신히 살아남은 리플리는 잠든 채로 57년을 떠돌다 구조선에 ...  \n",
      "3    정의로운 지방 검사 ‘하비 덴트’, ‘짐 고든’ 반장과 함께 범죄 소탕 작전을 펼치...  \n",
      "4    어렸을 때부터 함께 경극을 해온 ‘두지’(장국영)와 ‘시투’(장풍의).  세상에 둘...  \n",
      "..                                                 ...  \n",
      "665  그 여름, 나에게도 친구가 생겼다… “내 마음이 들리니”  언제나 혼자인 외톨이 선...  \n",
      "666  새로 이사 온 아이, ‘미카엘’.파란색을 좋아하고, 끝내주는 축구 실력과 유난히 잘...  \n",
      "667  저 마코토에게는 남들에게 말 못할 비밀이 하나 있어요. 타임리프라고 하는 능력이죠....  \n",
      "668  종두(설경구 분)는 뺑소니 교통 사고로 형을 살다가 교도소에서 막 출소했다. 그 사...  \n",
      "669  노래에 놀라운 재능을 가졌지만 외모에는 자신이 없는 무명가수 앨리(레이디 가가)는공...  \n",
      "\n",
      "[670 rows x 8 columns]\n",
      "8\n",
      "creating table ...\n",
      "inserting data ...\n",
      "1 record inserted.\n",
      "             날짜                                             노래  \\\n",
      "0    2020-05-01                                        그녀와의 이별   \n",
      "1    2020-05-01                                     Hot Summer   \n",
      "2    2020-05-01                                        니가 참 좋아   \n",
      "3    2020-05-01                               오아시스 (Feat. 이재훈)   \n",
      "4    2020-05-01                                         해변의 여인   \n",
      "..          ...                                            ...   \n",
      "330  2020-07-06                                Close Your Eyes   \n",
      "331  2020-07-06  If The World Was Ending (feat Julia Michaels)   \n",
      "332  2020-07-06                   Make the Most (feat. H.E.R.)   \n",
      "333  2020-07-06                                  Little Things   \n",
      "334  2020-07-06                                        Selfish   \n",
      "\n",
      "                 가수   좋아요 수  \n",
      "0               김현정  152911  \n",
      "1              f(x)  149671  \n",
      "2               쥬얼리   85979  \n",
      "3          브라운아이드걸스   56337  \n",
      "4          쿨 (COOL)   54852  \n",
      "..              ...     ...  \n",
      "330          Rhodes  335059  \n",
      "331         JP Saxe  254529  \n",
      "332           Lonr.  251827  \n",
      "333  Jessica Mauboy  224961  \n",
      "334    Madison Beer  214429  \n",
      "\n",
      "[335 rows x 4 columns]\n",
      "4\n",
      "creating table ...\n",
      "inserting data ...\n",
      "1 record inserted.\n",
      "Sent\n"
     ]
    }
   ],
   "source": [
    "input_date = input('원하는 날짜를 입력하세요 (2020-05-01 ~ 2020-06-11)  : ')\n",
    "\n",
    "\n",
    "# file_list = [naver_exchang_crawling.FinallyDf,naver_ranking_news_crawling.FinallyNewsList,weather_crawling.final_data,Job_opening_crawling.df,movie_crawling.data, melon_crawling.m]\n",
    "Data_list = [FinallyDf, df_news,final_data, df, data, m]\n",
    "table_name_list = ['exchange','ranking_news','weather','job','movie','music']\n",
    "table_columns_list =[\"(날짜 CHAR(10) , USA CHAR(10) NOT NULL, EUR CHAR(10) NOT NULL,JPY CHAR(10) NOT NULL,CNY CHAR(10) NOT NULL)\",\n",
    "                     \"(날짜 CHAR(10), title VARCHAR(500) , category VARCHAR(20) ,summary VARCHAR(10000))\",\n",
    "                    \"(날짜 CHAR(10) , 최저기온 CHAR(10) NOT NULL, 최고기온 CHAR(10) NOT NULL, 비 CHAR(10) NOT NULL,강수량 CHAR(10) NOT NULL,옷차림 CHAR(100) NOT NULL,날씨 CHAR(10) NOT NULL)\",\n",
    "                    \"(날짜 CHAR(30) , 회사 CHAR(100) NOT NULL)\", \n",
    "                    \"(제목 CHAR(50), 날짜 CHAR(10) NOT NULL, 평점 CHAR(10) NOT NULL, 장르 CHAR(50) NOT NULL,국가 CHAR(10) NOT NULL, 상영시간 CHAR(10) NOT NULL, 개봉일 CHAR(100) NOT NULL, 줄거리 VARCHAR(5000) NOT NULL)\",\n",
    "                    \"(날짜 CHAR(10) , 노래 CHAR(50) NOT NULL, 가수 CHAR(50) NOT NULL, 좋아요수 CHAR(10) NOT NULL)\"\n",
    "                    ] \n",
    "\n",
    "for Data, name, columns in zip(Data_list, table_name_list, table_columns_list):\n",
    "    table_name = name\n",
    "    table_columns = columns\n",
    "    legth_h = len(Data.columns.tolist())\n",
    "#     print(legth_h)\n",
    "\n",
    "    # table 생성\n",
    "    make_table(table_name, table_columns)\n",
    "    \n",
    "    # data 입력\n",
    "    input_data(table_name, Data, legth_h)\n",
    "\n",
    "    \n",
    "    # data 조회\n",
    "    if table_name == 'exchange':\n",
    "        exchange_msg = data_select(table_name, input_date)\n",
    "    elif table_name == 'ranking_news':\n",
    "        news_msg = data_select(table_name, input_date)\n",
    "    elif table_name == 'weather':\n",
    "        weather_msg = data_select(table_name, input_date)\n",
    "    elif table_name == 'job':\n",
    "        job_msg = data_select(table_name, input_date)\n",
    "    elif table_name == 'movie':\n",
    "        movie_msg = data_select(table_name, input_date)\n",
    "    else:\n",
    "        music_msg = data_select(table_name, input_date)\n",
    "\n",
    "# 이메일 보내기\n",
    "send_email_3(exchange_msg, news_msg, weather_msg, job_msg, movie_msg, music_msg)"
   ]
  }
 ],
 "metadata": {
  "kernelspec": {
   "display_name": "Python 3",
   "language": "python",
   "name": "python3"
  },
  "language_info": {
   "codemirror_mode": {
    "name": "ipython",
    "version": 3
   },
   "file_extension": ".py",
   "mimetype": "text/x-python",
   "name": "python",
   "nbconvert_exporter": "python",
   "pygments_lexer": "ipython3",
   "version": "3.7.4"
  }
 },
 "nbformat": 4,
 "nbformat_minor": 2
}
